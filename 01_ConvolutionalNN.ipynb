{
 "cells": [
  {
   "cell_type": "code",
   "id": "initial_id",
   "metadata": {
    "collapsed": true,
    "ExecuteTime": {
     "end_time": "2024-04-29T19:31:09.508144Z",
     "start_time": "2024-04-29T19:31:09.496807Z"
    }
   },
   "source": [
    "import pandas as pd\n",
    "import numpy as np\n",
    "import matplotlib.pyplot as plt"
   ],
   "outputs": [],
   "execution_count": 58
  },
  {
   "metadata": {
    "ExecuteTime": {
     "end_time": "2024-04-29T19:31:09.524872Z",
     "start_time": "2024-04-29T19:31:09.512649Z"
    }
   },
   "cell_type": "code",
   "source": "import torch",
   "id": "27d4e6bc4215b381",
   "outputs": [],
   "execution_count": 59
  },
  {
   "metadata": {
    "ExecuteTime": {
     "end_time": "2024-04-29T19:31:09.534060Z",
     "start_time": "2024-04-29T19:31:09.528378Z"
    }
   },
   "cell_type": "code",
   "source": [
    "device = torch.device(\"cuda\" if torch.cuda.is_available() else \"cpu\")\n",
    "device"
   ],
   "id": "e914b58ccbc28409",
   "outputs": [
    {
     "data": {
      "text/plain": [
       "device(type='cuda')"
      ]
     },
     "execution_count": 60,
     "metadata": {},
     "output_type": "execute_result"
    }
   ],
   "execution_count": 60
  },
  {
   "metadata": {
    "ExecuteTime": {
     "end_time": "2024-04-29T19:31:11.392958Z",
     "start_time": "2024-04-29T19:31:09.591342Z"
    }
   },
   "cell_type": "code",
   "source": [
    "df = pd.read_csv(\"dataset/train.csv\")\n",
    "df.sample(5)"
   ],
   "id": "8a10659c48aa2ec1",
   "outputs": [
    {
     "data": {
      "text/plain": [
       "       label  pixel0  pixel1  pixel2  pixel3  pixel4  pixel5  pixel6  pixel7  \\\n",
       "34362      1       0       0       0       0       0       0       0       0   \n",
       "37967      9       0       0       0       0       0       0       0       0   \n",
       "25604      5       0       0       0       0       0       0       0       0   \n",
       "6684       9       0       0       0       0       0       0       0       0   \n",
       "34996      9       0       0       0       0       0       0       0       0   \n",
       "\n",
       "       pixel8  ...  pixel774  pixel775  pixel776  pixel777  pixel778  \\\n",
       "34362       0  ...         0         0         0         0         0   \n",
       "37967       0  ...         0         0         0         0         0   \n",
       "25604       0  ...         0         0         0         0         0   \n",
       "6684        0  ...         0         0         0         0         0   \n",
       "34996       0  ...         0         0         0         0         0   \n",
       "\n",
       "       pixel779  pixel780  pixel781  pixel782  pixel783  \n",
       "34362         0         0         0         0         0  \n",
       "37967         0         0         0         0         0  \n",
       "25604         0         0         0         0         0  \n",
       "6684          0         0         0         0         0  \n",
       "34996         0         0         0         0         0  \n",
       "\n",
       "[5 rows x 785 columns]"
      ],
      "text/html": [
       "<div>\n",
       "<style scoped>\n",
       "    .dataframe tbody tr th:only-of-type {\n",
       "        vertical-align: middle;\n",
       "    }\n",
       "\n",
       "    .dataframe tbody tr th {\n",
       "        vertical-align: top;\n",
       "    }\n",
       "\n",
       "    .dataframe thead th {\n",
       "        text-align: right;\n",
       "    }\n",
       "</style>\n",
       "<table border=\"1\" class=\"dataframe\">\n",
       "  <thead>\n",
       "    <tr style=\"text-align: right;\">\n",
       "      <th></th>\n",
       "      <th>label</th>\n",
       "      <th>pixel0</th>\n",
       "      <th>pixel1</th>\n",
       "      <th>pixel2</th>\n",
       "      <th>pixel3</th>\n",
       "      <th>pixel4</th>\n",
       "      <th>pixel5</th>\n",
       "      <th>pixel6</th>\n",
       "      <th>pixel7</th>\n",
       "      <th>pixel8</th>\n",
       "      <th>...</th>\n",
       "      <th>pixel774</th>\n",
       "      <th>pixel775</th>\n",
       "      <th>pixel776</th>\n",
       "      <th>pixel777</th>\n",
       "      <th>pixel778</th>\n",
       "      <th>pixel779</th>\n",
       "      <th>pixel780</th>\n",
       "      <th>pixel781</th>\n",
       "      <th>pixel782</th>\n",
       "      <th>pixel783</th>\n",
       "    </tr>\n",
       "  </thead>\n",
       "  <tbody>\n",
       "    <tr>\n",
       "      <th>34362</th>\n",
       "      <td>1</td>\n",
       "      <td>0</td>\n",
       "      <td>0</td>\n",
       "      <td>0</td>\n",
       "      <td>0</td>\n",
       "      <td>0</td>\n",
       "      <td>0</td>\n",
       "      <td>0</td>\n",
       "      <td>0</td>\n",
       "      <td>0</td>\n",
       "      <td>...</td>\n",
       "      <td>0</td>\n",
       "      <td>0</td>\n",
       "      <td>0</td>\n",
       "      <td>0</td>\n",
       "      <td>0</td>\n",
       "      <td>0</td>\n",
       "      <td>0</td>\n",
       "      <td>0</td>\n",
       "      <td>0</td>\n",
       "      <td>0</td>\n",
       "    </tr>\n",
       "    <tr>\n",
       "      <th>37967</th>\n",
       "      <td>9</td>\n",
       "      <td>0</td>\n",
       "      <td>0</td>\n",
       "      <td>0</td>\n",
       "      <td>0</td>\n",
       "      <td>0</td>\n",
       "      <td>0</td>\n",
       "      <td>0</td>\n",
       "      <td>0</td>\n",
       "      <td>0</td>\n",
       "      <td>...</td>\n",
       "      <td>0</td>\n",
       "      <td>0</td>\n",
       "      <td>0</td>\n",
       "      <td>0</td>\n",
       "      <td>0</td>\n",
       "      <td>0</td>\n",
       "      <td>0</td>\n",
       "      <td>0</td>\n",
       "      <td>0</td>\n",
       "      <td>0</td>\n",
       "    </tr>\n",
       "    <tr>\n",
       "      <th>25604</th>\n",
       "      <td>5</td>\n",
       "      <td>0</td>\n",
       "      <td>0</td>\n",
       "      <td>0</td>\n",
       "      <td>0</td>\n",
       "      <td>0</td>\n",
       "      <td>0</td>\n",
       "      <td>0</td>\n",
       "      <td>0</td>\n",
       "      <td>0</td>\n",
       "      <td>...</td>\n",
       "      <td>0</td>\n",
       "      <td>0</td>\n",
       "      <td>0</td>\n",
       "      <td>0</td>\n",
       "      <td>0</td>\n",
       "      <td>0</td>\n",
       "      <td>0</td>\n",
       "      <td>0</td>\n",
       "      <td>0</td>\n",
       "      <td>0</td>\n",
       "    </tr>\n",
       "    <tr>\n",
       "      <th>6684</th>\n",
       "      <td>9</td>\n",
       "      <td>0</td>\n",
       "      <td>0</td>\n",
       "      <td>0</td>\n",
       "      <td>0</td>\n",
       "      <td>0</td>\n",
       "      <td>0</td>\n",
       "      <td>0</td>\n",
       "      <td>0</td>\n",
       "      <td>0</td>\n",
       "      <td>...</td>\n",
       "      <td>0</td>\n",
       "      <td>0</td>\n",
       "      <td>0</td>\n",
       "      <td>0</td>\n",
       "      <td>0</td>\n",
       "      <td>0</td>\n",
       "      <td>0</td>\n",
       "      <td>0</td>\n",
       "      <td>0</td>\n",
       "      <td>0</td>\n",
       "    </tr>\n",
       "    <tr>\n",
       "      <th>34996</th>\n",
       "      <td>9</td>\n",
       "      <td>0</td>\n",
       "      <td>0</td>\n",
       "      <td>0</td>\n",
       "      <td>0</td>\n",
       "      <td>0</td>\n",
       "      <td>0</td>\n",
       "      <td>0</td>\n",
       "      <td>0</td>\n",
       "      <td>0</td>\n",
       "      <td>...</td>\n",
       "      <td>0</td>\n",
       "      <td>0</td>\n",
       "      <td>0</td>\n",
       "      <td>0</td>\n",
       "      <td>0</td>\n",
       "      <td>0</td>\n",
       "      <td>0</td>\n",
       "      <td>0</td>\n",
       "      <td>0</td>\n",
       "      <td>0</td>\n",
       "    </tr>\n",
       "  </tbody>\n",
       "</table>\n",
       "<p>5 rows × 785 columns</p>\n",
       "</div>"
      ]
     },
     "execution_count": 61,
     "metadata": {},
     "output_type": "execute_result"
    }
   ],
   "execution_count": 61
  },
  {
   "metadata": {
    "ExecuteTime": {
     "end_time": "2024-04-29T19:31:11.515562Z",
     "start_time": "2024-04-29T19:31:11.392958Z"
    }
   },
   "cell_type": "code",
   "source": [
    "X = df.drop(columns=[\"label\"]).to_numpy()\n",
    "y = df[\"label\"].to_numpy()"
   ],
   "id": "661af089371726df",
   "outputs": [],
   "execution_count": 62
  },
  {
   "metadata": {
    "ExecuteTime": {
     "end_time": "2024-04-29T19:31:11.942798Z",
     "start_time": "2024-04-29T19:31:11.516566Z"
    }
   },
   "cell_type": "code",
   "source": [
    "from sklearn.model_selection import train_test_split\n",
    "\n",
    "X_train, X_val, y_train, y_val = train_test_split(X, y, test_size=0.2, random_state=42, stratify=y)"
   ],
   "id": "96b55f0c62590dcf",
   "outputs": [],
   "execution_count": 63
  },
  {
   "metadata": {
    "ExecuteTime": {
     "end_time": "2024-04-29T19:31:12.033681Z",
     "start_time": "2024-04-29T19:31:11.942798Z"
    }
   },
   "cell_type": "code",
   "source": [
    "X_train = torch.tensor(X_train, dtype=torch.float32).reshape(-1, 1, 28, 28).to(device)\n",
    "y_train = torch.tensor(y_train, dtype=torch.long).to(device)"
   ],
   "id": "4c84ea8d8e6e766c",
   "outputs": [],
   "execution_count": 64
  },
  {
   "metadata": {
    "ExecuteTime": {
     "end_time": "2024-04-29T19:31:12.058056Z",
     "start_time": "2024-04-29T19:31:12.033681Z"
    }
   },
   "cell_type": "code",
   "source": [
    "X_val = torch.tensor(X_val, dtype=torch.float32).reshape(-1, 1, 28, 28).to(device)\n",
    "y_val = torch.tensor(y_val, dtype=torch.long).to(device)"
   ],
   "id": "ca15d1d60cc2aefc",
   "outputs": [],
   "execution_count": 65
  },
  {
   "metadata": {
    "ExecuteTime": {
     "end_time": "2024-04-29T19:31:12.237870Z",
     "start_time": "2024-04-29T19:31:12.058056Z"
    }
   },
   "cell_type": "code",
   "source": "plt.imshow(X_train[0].cpu().squeeze(), cmap=\"gray\")",
   "id": "f776fb788c32300c",
   "outputs": [
    {
     "data": {
      "text/plain": [
       "<matplotlib.image.AxesImage at 0x1e82584b3e0>"
      ]
     },
     "execution_count": 66,
     "metadata": {},
     "output_type": "execute_result"
    },
    {
     "data": {
      "text/plain": [
       "<Figure size 640x480 with 1 Axes>"
      ],
      "image/png": "[encoded data removed]"
     },
     "metadata": {},
     "output_type": "display_data"
    }
   ],
   "execution_count": 66
  },
  {
   "metadata": {
    "ExecuteTime": {
     "end_time": "2024-04-29T19:31:12.244386Z",
     "start_time": "2024-04-29T19:31:12.237870Z"
    }
   },
   "cell_type": "code",
   "source": [
    "from torch.utils.data import Dataset, DataLoader\n",
    "\n",
    "class MNISTDataset(Dataset):\n",
    "    def __init__(self, X, y, transform=None):\n",
    "        self.X = X\n",
    "        self.y = y\n",
    "        self.transform = transform\n",
    "\n",
    "    def __len__(self):\n",
    "        return len(self.X)\n",
    "\n",
    "    def __getitem__(self, idx):\n",
    "        sample = self.X[idx], self.y[idx]\n",
    "\n",
    "        if self.transform:\n",
    "            sample = self.transform(sample)\n",
    "\n",
    "        return sample"
   ],
   "id": "fc19bdf746f3be5c",
   "outputs": [],
   "execution_count": 67
  },
  {
   "metadata": {
    "ExecuteTime": {
     "end_time": "2024-04-29T19:31:12.250207Z",
     "start_time": "2024-04-29T19:31:12.244386Z"
    }
   },
   "cell_type": "code",
   "source": [
    "from torchvision import transforms\n",
    "\n",
    "transforms = transforms.Compose([\n",
    "    transforms.RandomRotation(45),\n",
    "    transforms.ToTensor()\n",
    "])"
   ],
   "id": "835344bf579d6c35",
   "outputs": [],
   "execution_count": 68
  },
  {
   "metadata": {
    "ExecuteTime": {
     "end_time": "2024-04-29T19:31:12.255786Z",
     "start_time": "2024-04-29T19:31:12.250207Z"
    }
   },
   "cell_type": "code",
   "source": [
    "train_dataset = MNISTDataset(X_train, y_train)\n",
    "val_dataset = MNISTDataset(X_val, y_val)"
   ],
   "id": "44fb5e3d989b2c98",
   "outputs": [],
   "execution_count": 69
  },
  {
   "metadata": {
    "ExecuteTime": {
     "end_time": "2024-04-29T19:31:12.262792Z",
     "start_time": "2024-04-29T19:31:12.255786Z"
    }
   },
   "cell_type": "code",
   "source": [
    "train_loader = DataLoader(train_dataset, batch_size=32, shuffle=True)\n",
    "val_loader = DataLoader(val_dataset, batch_size=32, shuffle=False)"
   ],
   "id": "abe8a4e610868da4",
   "outputs": [],
   "execution_count": 70
  },
  {
   "metadata": {
    "ExecuteTime": {
     "end_time": "2024-04-29T20:21:45.693369Z",
     "start_time": "2024-04-29T20:21:45.672893Z"
    }
   },
   "cell_type": "code",
   "source": [
    "import torch.nn as nn\n",
    "\n",
    "model = nn.Sequential(\n",
    "    nn.Conv2d(1, 32, kernel_size=3, padding=1),\n",
    "    nn.BatchNorm2d(32),\n",
    "    nn.ReLU(),\n",
    "    nn.MaxPool2d(2),\n",
    "    nn.Conv2d(32, 64, kernel_size=3, padding=1),\n",
    "    nn.BatchNorm2d(64),\n",
    "    nn.ELU(),\n",
    "    nn.MaxPool2d(2),\n",
    "    nn.Flatten(),\n",
    "    nn.Linear(64 * 7 * 7, 128),\n",
    "    nn.BatchNorm1d(128),\n",
    "    nn.ELU(),\n",
    "    nn.Dropout(0.5),\n",
    "    nn.Linear(128, 32),\n",
    "    nn.ELU(),\n",
    "    nn.Dropout(0.5),\n",
    "    nn.Linear(32, 10)\n",
    ").to(device)"
   ],
   "id": "9febe43c490a96f",
   "outputs": [],
   "execution_count": 154
  },
  {
   "metadata": {
    "ExecuteTime": {
     "end_time": "2024-04-29T20:21:45.836690Z",
     "start_time": "2024-04-29T20:21:45.832551Z"
    }
   },
   "cell_type": "code",
   "source": [
    "from torch.optim import Adam\n",
    "\n",
    "optimizer = Adam(model.parameters(), lr=0.001)"
   ],
   "id": "d48cbcb022e3e894",
   "outputs": [],
   "execution_count": 155
  },
  {
   "metadata": {
    "ExecuteTime": {
     "end_time": "2024-04-29T20:21:45.965024Z",
     "start_time": "2024-04-29T20:21:45.950711Z"
    }
   },
   "cell_type": "code",
   "source": "criterion = nn.CrossEntropyLoss()",
   "id": "d05143025ebef378",
   "outputs": [],
   "execution_count": 156
  },
  {
   "metadata": {
    "ExecuteTime": {
     "end_time": "2024-04-29T20:27:00.302804Z",
     "start_time": "2024-04-29T20:21:46.272087Z"
    }
   },
   "cell_type": "code",
   "source": [
    "num_epochs = 50\n",
    "\n",
    "train_losses = []\n",
    "val_losses = []\n",
    "\n",
    "train_accs = []\n",
    "val_accs = []\n",
    "\n",
    "for epoch in range(num_epochs):\n",
    "    model.train()\n",
    "    train_loss = 0\n",
    "    train_acc = 0\n",
    "\n",
    "    for X_batch, y_batch in train_loader:\n",
    "        optimizer.zero_grad()\n",
    "\n",
    "        y_pred = model(X_batch)\n",
    "        loss = criterion(y_pred, y_batch)\n",
    "        loss.backward()\n",
    "        optimizer.step()\n",
    "\n",
    "        train_loss += loss.item()\n",
    "        train_acc += (y_pred.argmax(dim=1) == y_batch).float().mean()\n",
    "\n",
    "    train_loss /= len(train_loader)\n",
    "    train_acc /= len(train_loader)\n",
    "\n",
    "    train_losses.append(train_loss)\n",
    "    train_accs.append(train_acc)\n",
    "\n",
    "    model.eval()\n",
    "    val_loss = 0\n",
    "    val_acc = 0\n",
    "\n",
    "    with torch.no_grad():\n",
    "        for X_batch, y_batch in val_loader:\n",
    "            y_pred = model(X_batch)\n",
    "            loss = criterion(y_pred, y_batch)\n",
    "\n",
    "            val_loss += loss.item()\n",
    "            val_acc += (y_pred.argmax(dim=1) == y_batch).float().mean()\n",
    "\n",
    "    val_loss /= len(val_loader)\n",
    "    val_acc /= len(val_loader)\n",
    "\n",
    "    val_losses.append(val_loss)\n",
    "    val_accs.append(val_acc)\n",
    "\n",
    "    print(f\"Epoch {epoch + 1}/{num_epochs}, train loss: {train_loss:.4f}, val loss: {val_loss:.4f}, train acc: {train_acc:.4f}, val acc: {val_acc:.4f}\")"
   ],
   "id": "f6dd1b807683a399",
   "outputs": [
    {
     "name": "stdout",
     "output_type": "stream",
     "text": [
      "Epoch 1/50, train loss: 0.3091, val loss: 0.0713, train acc: 0.9193, val acc: 0.9774\n",
      "Epoch 2/50, train loss: 0.1426, val loss: 0.0521, train acc: 0.9601, val acc: 0.9835\n",
      "Epoch 3/50, train loss: 0.1170, val loss: 0.0430, train acc: 0.9675, val acc: 0.9870\n",
      "Epoch 4/50, train loss: 0.0977, val loss: 0.0455, train acc: 0.9730, val acc: 0.9878\n",
      "Epoch 5/50, train loss: 0.0843, val loss: 0.0423, train acc: 0.9757, val acc: 0.9865\n",
      "Epoch 6/50, train loss: 0.0792, val loss: 0.0426, train acc: 0.9782, val acc: 0.9881\n",
      "Epoch 7/50, train loss: 0.0718, val loss: 0.0450, train acc: 0.9796, val acc: 0.9874\n",
      "Epoch 8/50, train loss: 0.0710, val loss: 0.0406, train acc: 0.9800, val acc: 0.9885\n",
      "Epoch 9/50, train loss: 0.0579, val loss: 0.0400, train acc: 0.9833, val acc: 0.9903\n",
      "Epoch 10/50, train loss: 0.0558, val loss: 0.0416, train acc: 0.9839, val acc: 0.9889\n",
      "Epoch 11/50, train loss: 0.0559, val loss: 0.0404, train acc: 0.9848, val acc: 0.9892\n",
      "Epoch 12/50, train loss: 0.0496, val loss: 0.0412, train acc: 0.9857, val acc: 0.9888\n",
      "Epoch 13/50, train loss: 0.0464, val loss: 0.0440, train acc: 0.9855, val acc: 0.9897\n",
      "Epoch 14/50, train loss: 0.0439, val loss: 0.0402, train acc: 0.9869, val acc: 0.9904\n",
      "Epoch 15/50, train loss: 0.0451, val loss: 0.0459, train acc: 0.9873, val acc: 0.9905\n",
      "Epoch 16/50, train loss: 0.0406, val loss: 0.0432, train acc: 0.9878, val acc: 0.9889\n",
      "Epoch 17/50, train loss: 0.0413, val loss: 0.0400, train acc: 0.9874, val acc: 0.9899\n",
      "Epoch 18/50, train loss: 0.0384, val loss: 0.0408, train acc: 0.9889, val acc: 0.9897\n",
      "Epoch 19/50, train loss: 0.0398, val loss: 0.0386, train acc: 0.9882, val acc: 0.9909\n",
      "Epoch 20/50, train loss: 0.0340, val loss: 0.0379, train acc: 0.9901, val acc: 0.9894\n",
      "Epoch 21/50, train loss: 0.0311, val loss: 0.0388, train acc: 0.9904, val acc: 0.9909\n",
      "Epoch 22/50, train loss: 0.0323, val loss: 0.0411, train acc: 0.9901, val acc: 0.9909\n",
      "Epoch 23/50, train loss: 0.0341, val loss: 0.0405, train acc: 0.9898, val acc: 0.9900\n",
      "Epoch 24/50, train loss: 0.0274, val loss: 0.0438, train acc: 0.9915, val acc: 0.9905\n",
      "Epoch 25/50, train loss: 0.0296, val loss: 0.0470, train acc: 0.9913, val acc: 0.9900\n",
      "Epoch 26/50, train loss: 0.0328, val loss: 0.0428, train acc: 0.9905, val acc: 0.9900\n",
      "Epoch 27/50, train loss: 0.0294, val loss: 0.0555, train acc: 0.9908, val acc: 0.9884\n",
      "Epoch 28/50, train loss: 0.0263, val loss: 0.0484, train acc: 0.9924, val acc: 0.9906\n",
      "Epoch 29/50, train loss: 0.0240, val loss: 0.0464, train acc: 0.9928, val acc: 0.9916\n",
      "Epoch 30/50, train loss: 0.0243, val loss: 0.0483, train acc: 0.9930, val acc: 0.9913\n",
      "Epoch 31/50, train loss: 0.0258, val loss: 0.0501, train acc: 0.9923, val acc: 0.9900\n",
      "Epoch 32/50, train loss: 0.0244, val loss: 0.0432, train acc: 0.9932, val acc: 0.9910\n",
      "Epoch 33/50, train loss: 0.0245, val loss: 0.0488, train acc: 0.9930, val acc: 0.9909\n",
      "Epoch 34/50, train loss: 0.0244, val loss: 0.0507, train acc: 0.9925, val acc: 0.9888\n",
      "Epoch 35/50, train loss: 0.0240, val loss: 0.0521, train acc: 0.9922, val acc: 0.9893\n",
      "Epoch 36/50, train loss: 0.0227, val loss: 0.0477, train acc: 0.9932, val acc: 0.9917\n",
      "Epoch 37/50, train loss: 0.0190, val loss: 0.0546, train acc: 0.9943, val acc: 0.9907\n",
      "Epoch 38/50, train loss: 0.0215, val loss: 0.0524, train acc: 0.9933, val acc: 0.9910\n",
      "Epoch 39/50, train loss: 0.0242, val loss: 0.0565, train acc: 0.9924, val acc: 0.9900\n",
      "Epoch 40/50, train loss: 0.0218, val loss: 0.0528, train acc: 0.9937, val acc: 0.9913\n",
      "Epoch 41/50, train loss: 0.0256, val loss: 0.0426, train acc: 0.9927, val acc: 0.9918\n",
      "Epoch 42/50, train loss: 0.0198, val loss: 0.0464, train acc: 0.9937, val acc: 0.9910\n",
      "Epoch 43/50, train loss: 0.0222, val loss: 0.0530, train acc: 0.9935, val acc: 0.9899\n",
      "Epoch 44/50, train loss: 0.0220, val loss: 0.0568, train acc: 0.9935, val acc: 0.9895\n",
      "Epoch 45/50, train loss: 0.0209, val loss: 0.0561, train acc: 0.9937, val acc: 0.9907\n",
      "Epoch 46/50, train loss: 0.0208, val loss: 0.0482, train acc: 0.9939, val acc: 0.9913\n",
      "Epoch 47/50, train loss: 0.0203, val loss: 0.0609, train acc: 0.9936, val acc: 0.9892\n",
      "Epoch 48/50, train loss: 0.0197, val loss: 0.0522, train acc: 0.9940, val acc: 0.9909\n",
      "Epoch 49/50, train loss: 0.0217, val loss: 0.0504, train acc: 0.9941, val acc: 0.9910\n",
      "Epoch 50/50, train loss: 0.0181, val loss: 0.0500, train acc: 0.9945, val acc: 0.9917\n"
     ]
    }
   ],
   "execution_count": 157
  },
  {
   "metadata": {
    "ExecuteTime": {
     "end_time": "2024-04-29T20:27:35.138646Z",
     "start_time": "2024-04-29T20:27:35.122152Z"
    }
   },
   "cell_type": "code",
   "source": "torch.save(model.state_dict(), \"models/model.pth\")",
   "id": "53328f8af94cc5f7",
   "outputs": [],
   "execution_count": 160
  },
  {
   "metadata": {
    "ExecuteTime": {
     "end_time": "2024-04-29T20:27:00.311400Z",
     "start_time": "2024-04-29T20:27:00.302804Z"
    }
   },
   "cell_type": "code",
   "source": [
    "train_accs = [acc.item() for acc in train_accs]\n",
    "val_accs = [acc.item() for acc in val_accs]\n",
    "\n",
    "print(f\"Max train accuracy: {max(train_accs)} at epoch {train_accs.index(max(train_accs)) + 1}\")\n",
    "print(f\"Max val accuracy: {max(val_accs)} at epoch {val_accs.index(max(val_accs)) + 1}\")"
   ],
   "id": "7cda729f8f9a9cc9",
   "outputs": [
    {
     "name": "stdout",
     "output_type": "stream",
     "text": [
      "Max train accuracy: 0.994523823261261 at epoch 50\n",
      "Max val accuracy: 0.9918013215065002 at epoch 41\n"
     ]
    }
   ],
   "execution_count": 158
  },
  {
   "metadata": {
    "ExecuteTime": {
     "end_time": "2024-04-29T20:27:00.608663Z",
     "start_time": "2024-04-29T20:27:00.312409Z"
    }
   },
   "cell_type": "code",
   "source": [
    "# Plot losses and accuracies\n",
    "plt.figure(figsize=(12, 4))\n",
    "\n",
    "plt.subplot(1, 2, 1)\n",
    "plt.plot(train_losses, label=\"train\")\n",
    "plt.plot(val_losses, label=\"val\")\n",
    "plt.xlabel(\"Epoch\")\n",
    "plt.ylabel(\"Loss\")\n",
    "plt.legend()\n",
    "\n",
    "plt.subplot(1, 2, 2)\n",
    "plt.plot(train_accs, label=\"train\")\n",
    "plt.plot(val_accs, label=\"val\")\n",
    "plt.xlabel(\"Epoch\")\n",
    "plt.ylabel(\"Accuracy\")\n",
    "plt.legend()\n",
    "\n",
    "plt.show()"
   ],
   "id": "12772b2e0050bca5",
   "outputs": [
    {
     "data": {
      "text/plain": [
       "<Figure size 1200x400 with 2 Axes>"
      ],
      "image/png": "[encoded data removed]"
     },
     "metadata": {},
     "output_type": "display_data"
    }
   ],
   "execution_count": 159
  },
  {
   "metadata": {
    "ExecuteTime": {
     "end_time": "2024-04-29T20:27:55.967578Z",
     "start_time": "2024-04-29T20:27:54.641955Z"
    }
   },
   "cell_type": "code",
   "source": [
    "df_test = pd.read_csv(\"dataset/test.csv\")\n",
    "df_test.sample(5)"
   ],
   "id": "8c3c413a6f879ef5",
   "outputs": [
    {
     "data": {
      "text/plain": [
       "       pixel0  pixel1  pixel2  pixel3  pixel4  pixel5  pixel6  pixel7  pixel8  \\\n",
       "5200        0       0       0       0       0       0       0       0       0   \n",
       "27009       0       0       0       0       0       0       0       0       0   \n",
       "23741       0       0       0       0       0       0       0       0       0   \n",
       "17872       0       0       0       0       0       0       0       0       0   \n",
       "11167       0       0       0       0       0       0       0       0       0   \n",
       "\n",
       "       pixel9  ...  pixel774  pixel775  pixel776  pixel777  pixel778  \\\n",
       "5200        0  ...         0         0         0         0         0   \n",
       "27009       0  ...         0         0         0         0         0   \n",
       "23741       0  ...         0         0         0         0         0   \n",
       "17872       0  ...         0         0         0         0         0   \n",
       "11167       0  ...         0         0         0         0         0   \n",
       "\n",
       "       pixel779  pixel780  pixel781  pixel782  pixel783  \n",
       "5200          0         0         0         0         0  \n",
       "27009         0         0         0         0         0  \n",
       "23741         0         0         0         0         0  \n",
       "17872         0         0         0         0         0  \n",
       "11167         0         0         0         0         0  \n",
       "\n",
       "[5 rows x 784 columns]"
      ],
      "text/html": [
       "<div>\n",
       "<style scoped>\n",
       "    .dataframe tbody tr th:only-of-type {\n",
       "        vertical-align: middle;\n",
       "    }\n",
       "\n",
       "    .dataframe tbody tr th {\n",
       "        vertical-align: top;\n",
       "    }\n",
       "\n",
       "    .dataframe thead th {\n",
       "        text-align: right;\n",
       "    }\n",
       "</style>\n",
       "<table border=\"1\" class=\"dataframe\">\n",
       "  <thead>\n",
       "    <tr style=\"text-align: right;\">\n",
       "      <th></th>\n",
       "      <th>pixel0</th>\n",
       "      <th>pixel1</th>\n",
       "      <th>pixel2</th>\n",
       "      <th>pixel3</th>\n",
       "      <th>pixel4</th>\n",
       "      <th>pixel5</th>\n",
       "      <th>pixel6</th>\n",
       "      <th>pixel7</th>\n",
       "      <th>pixel8</th>\n",
       "      <th>pixel9</th>\n",
       "      <th>...</th>\n",
       "      <th>pixel774</th>\n",
       "      <th>pixel775</th>\n",
       "      <th>pixel776</th>\n",
       "      <th>pixel777</th>\n",
       "      <th>pixel778</th>\n",
       "      <th>pixel779</th>\n",
       "      <th>pixel780</th>\n",
       "      <th>pixel781</th>\n",
       "      <th>pixel782</th>\n",
       "      <th>pixel783</th>\n",
       "    </tr>\n",
       "  </thead>\n",
       "  <tbody>\n",
       "    <tr>\n",
       "      <th>5200</th>\n",
       "      <td>0</td>\n",
       "      <td>0</td>\n",
       "      <td>0</td>\n",
       "      <td>0</td>\n",
       "      <td>0</td>\n",
       "      <td>0</td>\n",
       "      <td>0</td>\n",
       "      <td>0</td>\n",
       "      <td>0</td>\n",
       "      <td>0</td>\n",
       "      <td>...</td>\n",
       "      <td>0</td>\n",
       "      <td>0</td>\n",
       "      <td>0</td>\n",
       "      <td>0</td>\n",
       "      <td>0</td>\n",
       "      <td>0</td>\n",
       "      <td>0</td>\n",
       "      <td>0</td>\n",
       "      <td>0</td>\n",
       "      <td>0</td>\n",
       "    </tr>\n",
       "    <tr>\n",
       "      <th>27009</th>\n",
       "      <td>0</td>\n",
       "      <td>0</td>\n",
       "      <td>0</td>\n",
       "      <td>0</td>\n",
       "      <td>0</td>\n",
       "      <td>0</td>\n",
       "      <td>0</td>\n",
       "      <td>0</td>\n",
       "      <td>0</td>\n",
       "      <td>0</td>\n",
       "      <td>...</td>\n",
       "      <td>0</td>\n",
       "      <td>0</td>\n",
       "      <td>0</td>\n",
       "      <td>0</td>\n",
       "      <td>0</td>\n",
       "      <td>0</td>\n",
       "      <td>0</td>\n",
       "      <td>0</td>\n",
       "      <td>0</td>\n",
       "      <td>0</td>\n",
       "    </tr>\n",
       "    <tr>\n",
       "      <th>23741</th>\n",
       "      <td>0</td>\n",
       "      <td>0</td>\n",
       "      <td>0</td>\n",
       "      <td>0</td>\n",
       "      <td>0</td>\n",
       "      <td>0</td>\n",
       "      <td>0</td>\n",
       "      <td>0</td>\n",
       "      <td>0</td>\n",
       "      <td>0</td>\n",
       "      <td>...</td>\n",
       "      <td>0</td>\n",
       "      <td>0</td>\n",
       "      <td>0</td>\n",
       "      <td>0</td>\n",
       "      <td>0</td>\n",
       "      <td>0</td>\n",
       "      <td>0</td>\n",
       "      <td>0</td>\n",
       "      <td>0</td>\n",
       "      <td>0</td>\n",
       "    </tr>\n",
       "    <tr>\n",
       "      <th>17872</th>\n",
       "      <td>0</td>\n",
       "      <td>0</td>\n",
       "      <td>0</td>\n",
       "      <td>0</td>\n",
       "      <td>0</td>\n",
       "      <td>0</td>\n",
       "      <td>0</td>\n",
       "      <td>0</td>\n",
       "      <td>0</td>\n",
       "      <td>0</td>\n",
       "      <td>...</td>\n",
       "      <td>0</td>\n",
       "      <td>0</td>\n",
       "      <td>0</td>\n",
       "      <td>0</td>\n",
       "      <td>0</td>\n",
       "      <td>0</td>\n",
       "      <td>0</td>\n",
       "      <td>0</td>\n",
       "      <td>0</td>\n",
       "      <td>0</td>\n",
       "    </tr>\n",
       "    <tr>\n",
       "      <th>11167</th>\n",
       "      <td>0</td>\n",
       "      <td>0</td>\n",
       "      <td>0</td>\n",
       "      <td>0</td>\n",
       "      <td>0</td>\n",
       "      <td>0</td>\n",
       "      <td>0</td>\n",
       "      <td>0</td>\n",
       "      <td>0</td>\n",
       "      <td>0</td>\n",
       "      <td>...</td>\n",
       "      <td>0</td>\n",
       "      <td>0</td>\n",
       "      <td>0</td>\n",
       "      <td>0</td>\n",
       "      <td>0</td>\n",
       "      <td>0</td>\n",
       "      <td>0</td>\n",
       "      <td>0</td>\n",
       "      <td>0</td>\n",
       "      <td>0</td>\n",
       "    </tr>\n",
       "  </tbody>\n",
       "</table>\n",
       "<p>5 rows × 784 columns</p>\n",
       "</div>"
      ]
     },
     "execution_count": 161,
     "metadata": {},
     "output_type": "execute_result"
    }
   ],
   "execution_count": 161
  },
  {
   "metadata": {
    "ExecuteTime": {
     "end_time": "2024-04-29T20:28:10.152988Z",
     "start_time": "2024-04-29T20:28:10.080748Z"
    }
   },
   "cell_type": "code",
   "source": [
    "X_test = df_test.to_numpy()\n",
    "X_test = torch.tensor(X_test, dtype=torch.float32).reshape(-1, 1, 28, 28).to(device)\n"
   ],
   "id": "36ecb641dd5e60be",
   "outputs": [],
   "execution_count": 162
  },
  {
   "metadata": {
    "ExecuteTime": {
     "end_time": "2024-04-29T20:28:20.085113Z",
     "start_time": "2024-04-29T20:28:19.146084Z"
    }
   },
   "cell_type": "code",
   "source": [
    "model.eval()\n",
    "with torch.no_grad():\n",
    "    y_pred = model(X_test).argmax(dim=1)"
   ],
   "id": "b3119c0117f6f10e",
   "outputs": [],
   "execution_count": 163
  },
  {
   "metadata": {
    "ExecuteTime": {
     "end_time": "2024-04-29T20:29:49.964787Z",
     "start_time": "2024-04-29T20:29:49.876412Z"
    }
   },
   "cell_type": "code",
   "source": [
    "submission = pd.DataFrame({\n",
    "    \"ImageId\": np.arange(1, len(y_pred) + 1),\n",
    "    \"Label\": y_pred.cpu().numpy()\n",
    "})\n",
    "submission.to_csv(\"submission.csv\", index=False)"
   ],
   "id": "5b218ce5c254491b",
   "outputs": [],
   "execution_count": 164
  }
 ],
 "metadata": {
  "kernelspec": {
   "display_name": "Python 3",
   "language": "python",
   "name": "python3"
  },
  "language_info": {
   "codemirror_mode": {
    "name": "ipython",
    "version": 2
   },
   "file_extension": ".py",
   "mimetype": "text/x-python",
   "name": "python",
   "nbconvert_exporter": "python",
   "pygments_lexer": "ipython2",
   "version": "2.7.6"
  }
 },
 "nbformat": 4,
 "nbformat_minor": 5
}
